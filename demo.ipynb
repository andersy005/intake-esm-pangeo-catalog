{
 "cells": [
  {
   "cell_type": "code",
   "execution_count": 1,
   "metadata": {},
   "outputs": [],
   "source": [
    "import intake\n",
    "from pprint import pprint"
   ]
  },
  {
   "cell_type": "code",
   "execution_count": 2,
   "metadata": {},
   "outputs": [
    {
     "data": {
      "text/html": [
       "<p><strong>GFDL_CM2_6 catalog with 3 dataset(s) from 13 asset(s)</strong>:</p> <div>\n",
       "<style scoped>\n",
       "    .dataframe tbody tr th:only-of-type {\n",
       "        vertical-align: middle;\n",
       "    }\n",
       "\n",
       "    .dataframe tbody tr th {\n",
       "        vertical-align: top;\n",
       "    }\n",
       "\n",
       "    .dataframe thead th {\n",
       "        text-align: right;\n",
       "    }\n",
       "</style>\n",
       "<table border=\"1\" class=\"dataframe\">\n",
       "  <thead>\n",
       "    <tr style=\"text-align: right;\">\n",
       "      <th></th>\n",
       "      <th>unique</th>\n",
       "    </tr>\n",
       "  </thead>\n",
       "  <tbody>\n",
       "    <tr>\n",
       "      <th>institution_id</th>\n",
       "      <td>1</td>\n",
       "    </tr>\n",
       "    <tr>\n",
       "      <th>source_id</th>\n",
       "      <td>1</td>\n",
       "    </tr>\n",
       "    <tr>\n",
       "      <th>experiment_id</th>\n",
       "      <td>3</td>\n",
       "    </tr>\n",
       "    <tr>\n",
       "      <th>variable_id</th>\n",
       "      <td>7</td>\n",
       "    </tr>\n",
       "    <tr>\n",
       "      <th>zstore</th>\n",
       "      <td>13</td>\n",
       "    </tr>\n",
       "  </tbody>\n",
       "</table>\n",
       "</div>"
      ],
      "text/plain": [
       "<GFDL_CM2_6 catalog with 3 dataset(s) from 13 asset(s)>"
      ]
     },
     "execution_count": 2,
     "metadata": {},
     "output_type": "execute_result"
    }
   ],
   "source": [
    "col = intake.open_esm_datastore(\"https://storage.googleapis.com/cmip6/gfdl_cm2_6.json\", sep='_')\n",
    "col"
   ]
  },
  {
   "cell_type": "code",
   "execution_count": 3,
   "metadata": {},
   "outputs": [
    {
     "data": {
      "text/html": [
       "<div>\n",
       "<style scoped>\n",
       "    .dataframe tbody tr th:only-of-type {\n",
       "        vertical-align: middle;\n",
       "    }\n",
       "\n",
       "    .dataframe tbody tr th {\n",
       "        vertical-align: top;\n",
       "    }\n",
       "\n",
       "    .dataframe thead th {\n",
       "        text-align: right;\n",
       "    }\n",
       "</style>\n",
       "<table border=\"1\" class=\"dataframe\">\n",
       "  <thead>\n",
       "    <tr style=\"text-align: right;\">\n",
       "      <th></th>\n",
       "      <th>institution_id</th>\n",
       "      <th>source_id</th>\n",
       "      <th>experiment_id</th>\n",
       "      <th>variable_id</th>\n",
       "      <th>zstore</th>\n",
       "    </tr>\n",
       "  </thead>\n",
       "  <tbody>\n",
       "    <tr>\n",
       "      <th>0</th>\n",
       "      <td>NOAA-GFDL</td>\n",
       "      <td>GFDL-CM2.6</td>\n",
       "      <td>control</td>\n",
       "      <td>ocean</td>\n",
       "      <td>gs://cmip6/GFDL_CM2_6/control/ocean</td>\n",
       "    </tr>\n",
       "    <tr>\n",
       "      <th>1</th>\n",
       "      <td>NOAA-GFDL</td>\n",
       "      <td>GFDL-CM2.6</td>\n",
       "      <td>control</td>\n",
       "      <td>ocean_3d</td>\n",
       "      <td>gs://cmip6/GFDL_CM2_6/control/ocean_3d</td>\n",
       "    </tr>\n",
       "    <tr>\n",
       "      <th>2</th>\n",
       "      <td>NOAA-GFDL</td>\n",
       "      <td>GFDL-CM2.6</td>\n",
       "      <td>control</td>\n",
       "      <td>ocean_boundary</td>\n",
       "      <td>gs://cmip6/GFDL_CM2_6/control/ocean_boundary</td>\n",
       "    </tr>\n",
       "    <tr>\n",
       "      <th>3</th>\n",
       "      <td>NOAA-GFDL</td>\n",
       "      <td>GFDL-CM2.6</td>\n",
       "      <td>control</td>\n",
       "      <td>ocean_budgets</td>\n",
       "      <td>gs://cmip6/GFDL_CM2_6/control/ocean_budgets</td>\n",
       "    </tr>\n",
       "    <tr>\n",
       "      <th>4</th>\n",
       "      <td>NOAA-GFDL</td>\n",
       "      <td>GFDL-CM2.6</td>\n",
       "      <td>control</td>\n",
       "      <td>ocean_transport</td>\n",
       "      <td>gs://cmip6/GFDL_CM2_6/control/ocean_transport</td>\n",
       "    </tr>\n",
       "    <tr>\n",
       "      <th>5</th>\n",
       "      <td>NOAA-GFDL</td>\n",
       "      <td>GFDL-CM2.6</td>\n",
       "      <td>control</td>\n",
       "      <td>surface</td>\n",
       "      <td>gs://cmip6/GFDL_CM2_6/control/surface</td>\n",
       "    </tr>\n",
       "    <tr>\n",
       "      <th>6</th>\n",
       "      <td>NOAA-GFDL</td>\n",
       "      <td>GFDL-CM2.6</td>\n",
       "      <td>one_percent</td>\n",
       "      <td>ocean</td>\n",
       "      <td>gs://cmip6/GFDL_CM2_6/one_percent/ocean</td>\n",
       "    </tr>\n",
       "    <tr>\n",
       "      <th>7</th>\n",
       "      <td>NOAA-GFDL</td>\n",
       "      <td>GFDL-CM2.6</td>\n",
       "      <td>one_percent</td>\n",
       "      <td>ocean_3d</td>\n",
       "      <td>gs://cmip6/GFDL_CM2_6/one_percent/ocean_3d</td>\n",
       "    </tr>\n",
       "    <tr>\n",
       "      <th>8</th>\n",
       "      <td>NOAA-GFDL</td>\n",
       "      <td>GFDL-CM2.6</td>\n",
       "      <td>one_percent</td>\n",
       "      <td>ocean_boundary</td>\n",
       "      <td>gs://cmip6/GFDL_CM2_6/one_percent/ocean_boundary</td>\n",
       "    </tr>\n",
       "    <tr>\n",
       "      <th>9</th>\n",
       "      <td>NOAA-GFDL</td>\n",
       "      <td>GFDL-CM2.6</td>\n",
       "      <td>one_percent</td>\n",
       "      <td>ocean_budgets</td>\n",
       "      <td>gs://cmip6/GFDL_CM2_6/one_percent/ocean_budgets</td>\n",
       "    </tr>\n",
       "    <tr>\n",
       "      <th>10</th>\n",
       "      <td>NOAA-GFDL</td>\n",
       "      <td>GFDL-CM2.6</td>\n",
       "      <td>one_percent</td>\n",
       "      <td>ocean_transport</td>\n",
       "      <td>gs://cmip6/GFDL_CM2_6/one_percent/ocean_transport</td>\n",
       "    </tr>\n",
       "    <tr>\n",
       "      <th>11</th>\n",
       "      <td>NOAA-GFDL</td>\n",
       "      <td>GFDL-CM2.6</td>\n",
       "      <td>one_percent</td>\n",
       "      <td>surface</td>\n",
       "      <td>gs://cmip6/GFDL_CM2_6/one_percent/surface</td>\n",
       "    </tr>\n",
       "    <tr>\n",
       "      <th>12</th>\n",
       "      <td>NOAA-GFDL</td>\n",
       "      <td>GFDL-CM2.6</td>\n",
       "      <td>grid</td>\n",
       "      <td>grid</td>\n",
       "      <td>gs://cmip6/GFDL_CM2_6/grid</td>\n",
       "    </tr>\n",
       "  </tbody>\n",
       "</table>\n",
       "</div>"
      ],
      "text/plain": [
       "   institution_id   source_id experiment_id      variable_id  \\\n",
       "0       NOAA-GFDL  GFDL-CM2.6       control            ocean   \n",
       "1       NOAA-GFDL  GFDL-CM2.6       control         ocean_3d   \n",
       "2       NOAA-GFDL  GFDL-CM2.6       control   ocean_boundary   \n",
       "3       NOAA-GFDL  GFDL-CM2.6       control    ocean_budgets   \n",
       "4       NOAA-GFDL  GFDL-CM2.6       control  ocean_transport   \n",
       "5       NOAA-GFDL  GFDL-CM2.6       control          surface   \n",
       "6       NOAA-GFDL  GFDL-CM2.6   one_percent            ocean   \n",
       "7       NOAA-GFDL  GFDL-CM2.6   one_percent         ocean_3d   \n",
       "8       NOAA-GFDL  GFDL-CM2.6   one_percent   ocean_boundary   \n",
       "9       NOAA-GFDL  GFDL-CM2.6   one_percent    ocean_budgets   \n",
       "10      NOAA-GFDL  GFDL-CM2.6   one_percent  ocean_transport   \n",
       "11      NOAA-GFDL  GFDL-CM2.6   one_percent          surface   \n",
       "12      NOAA-GFDL  GFDL-CM2.6          grid             grid   \n",
       "\n",
       "                                               zstore  \n",
       "0                 gs://cmip6/GFDL_CM2_6/control/ocean  \n",
       "1              gs://cmip6/GFDL_CM2_6/control/ocean_3d  \n",
       "2        gs://cmip6/GFDL_CM2_6/control/ocean_boundary  \n",
       "3         gs://cmip6/GFDL_CM2_6/control/ocean_budgets  \n",
       "4       gs://cmip6/GFDL_CM2_6/control/ocean_transport  \n",
       "5               gs://cmip6/GFDL_CM2_6/control/surface  \n",
       "6             gs://cmip6/GFDL_CM2_6/one_percent/ocean  \n",
       "7          gs://cmip6/GFDL_CM2_6/one_percent/ocean_3d  \n",
       "8    gs://cmip6/GFDL_CM2_6/one_percent/ocean_boundary  \n",
       "9     gs://cmip6/GFDL_CM2_6/one_percent/ocean_budgets  \n",
       "10  gs://cmip6/GFDL_CM2_6/one_percent/ocean_transport  \n",
       "11          gs://cmip6/GFDL_CM2_6/one_percent/surface  \n",
       "12                         gs://cmip6/GFDL_CM2_6/grid  "
      ]
     },
     "execution_count": 3,
     "metadata": {},
     "output_type": "execute_result"
    }
   ],
   "source": [
    "# List assets in the catalog\n",
    "col.df"
   ]
  },
  {
   "cell_type": "code",
   "execution_count": 4,
   "metadata": {},
   "outputs": [
    {
     "data": {
      "text/plain": [
       "['NOAA-GFDL_GFDL-CM2.6_control',\n",
       " 'NOAA-GFDL_GFDL-CM2.6_grid',\n",
       " 'NOAA-GFDL_GFDL-CM2.6_one_percent']"
      ]
     },
     "execution_count": 4,
     "metadata": {},
     "output_type": "execute_result"
    }
   ],
   "source": [
    "# Find entries in the catalog\n",
    "col.keys()"
   ]
  },
  {
   "cell_type": "markdown",
   "metadata": {},
   "source": [
    "Each key in this list points to the assets (files) that will be merged into a single xarray dataset."
   ]
  },
  {
   "cell_type": "code",
   "execution_count": 5,
   "metadata": {},
   "outputs": [],
   "source": [
    "# Select an entry\n",
    "entry = col['NOAA-GFDL_GFDL-CM2.6_control']"
   ]
  },
  {
   "cell_type": "code",
   "execution_count": 6,
   "metadata": {},
   "outputs": [
    {
     "data": {
      "text/plain": [
       "{'name': 'NOAA-GFDL_GFDL-CM2.6_control',\n",
       " 'container': 'xarray',\n",
       " 'plugin': ['esm_group'],\n",
       " 'description': '',\n",
       " 'direct_access': True,\n",
       " 'user_parameters': [],\n",
       " 'metadata': {},\n",
       " 'args': {'df':   institution_id   source_id experiment_id      variable_id  \\\n",
       "  0      NOAA-GFDL  GFDL-CM2.6       control            ocean   \n",
       "  1      NOAA-GFDL  GFDL-CM2.6       control         ocean_3d   \n",
       "  2      NOAA-GFDL  GFDL-CM2.6       control   ocean_boundary   \n",
       "  3      NOAA-GFDL  GFDL-CM2.6       control    ocean_budgets   \n",
       "  4      NOAA-GFDL  GFDL-CM2.6       control  ocean_transport   \n",
       "  5      NOAA-GFDL  GFDL-CM2.6       control          surface   \n",
       "  \n",
       "                                            zstore  \n",
       "  0            gs://cmip6/GFDL_CM2_6/control/ocean  \n",
       "  1         gs://cmip6/GFDL_CM2_6/control/ocean_3d  \n",
       "  2   gs://cmip6/GFDL_CM2_6/control/ocean_boundary  \n",
       "  3    gs://cmip6/GFDL_CM2_6/control/ocean_budgets  \n",
       "  4  gs://cmip6/GFDL_CM2_6/control/ocean_transport  \n",
       "  5          gs://cmip6/GFDL_CM2_6/control/surface  ,\n",
       "  'aggregation_dict': {'variable_id': {'type': 'union'}},\n",
       "  'path_column': 'zstore',\n",
       "  'variable_column': 'variable_id',\n",
       "  'data_format': 'zarr',\n",
       "  'format_column': None}}"
      ]
     },
     "execution_count": 6,
     "metadata": {},
     "output_type": "execute_result"
    }
   ],
   "source": [
    "# Basic specification of the dataset\n",
    "entry.describe()"
   ]
  },
  {
   "cell_type": "code",
   "execution_count": null,
   "metadata": {},
   "outputs": [],
   "source": []
  }
 ],
 "metadata": {
  "kernelspec": {
   "display_name": "Python 3",
   "language": "python",
   "name": "python3"
  },
  "language_info": {
   "codemirror_mode": {
    "name": "ipython",
    "version": 3
   },
   "file_extension": ".py",
   "mimetype": "text/x-python",
   "name": "python",
   "nbconvert_exporter": "python",
   "pygments_lexer": "ipython3",
   "version": "3.8.2"
  }
 },
 "nbformat": 4,
 "nbformat_minor": 4
}
